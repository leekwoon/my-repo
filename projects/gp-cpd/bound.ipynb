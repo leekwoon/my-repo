{
 "cells": [
  {
   "cell_type": "markdown",
   "metadata": {},
   "source": [
    "* $\\Sigma$ is symmetric and positive semi-definite, so its eigenvectors are orthonormal to each other and all of its eigenvalues are nonnegative.\n",
    "* Performing eigendecomposition\n",
    "\n",
    "$$X^{T}\\Sigma X = X^{T}Q\\Lambda Q^{T}X$$\n",
    "\n",
    "* $X^{T}\\Sigma X = \\sum_{k} \\lambda_{k}{<X, q_{k}>}^{2}$\n",
    "* Note that, $\\sum_{k}{<X, q_{k}>}^{2} = X^{T}QQ^{T}x=<X,X>=||X||^{2}$\n",
    "* Therefor, $\\lambda_{\\text{min}}||X||^{2} \\le X^{T}\\Sigma X \\le \\lambda_{\\text{max}}||X||^{2}$\n",
    "* In the case of $\\Sigma^{-1}$, we can do the similar way, since\n",
    "\n",
    "$$X^{T}\\Sigma^{-1} X=Q\\Lambda^{-1}Q^{T}=Qdiag(1/\\lambda_{\\text{max}}, ..., 1/\\lambda_{\\text{min}})Q^{T}$$\n"
   ]
  },
  {
   "cell_type": "code",
   "execution_count": 6,
   "metadata": {
    "collapsed": false
   },
   "outputs": [],
   "source": [
    "from scipy import linalg\n",
    "L = linalg.cholesky(hyp[\"null\"][\"K\"])"
   ]
  },
  {
   "cell_type": "code",
   "execution_count": 8,
   "metadata": {
    "collapsed": false
   },
   "outputs": [
    {
     "data": {
      "text/plain": [
       "(100, 100)"
      ]
     },
     "execution_count": 8,
     "metadata": {},
     "output_type": "execute_result"
    }
   ],
   "source": [
    "L.shape"
   ]
  },
  {
   "cell_type": "code",
   "execution_count": 92,
   "metadata": {
    "collapsed": false
   },
   "outputs": [],
   "source": [
    "import GPy\n",
    "# import gpflow\n",
    "import numpy as np\n",
    "\n",
    "from scipy.linalg import solve_triangular, cholesky\n",
    "\n",
    "def compute_quad(X, K):\n",
    "    return np.matmul(np.matmul(np.transpose(X), K), X)\n",
    "\n",
    "kernel =  GPy.kern.RBF(input_dim = 1) # default setting\n",
    "# kernel = gpr\n",
    "varaince = 1.\n",
    "N = 10 # 100\n",
    "t = int(0.5 * N)\n",
    "\n",
    "T = np.linspace(0.,0.1 * N, N)\n",
    "T = T.reshape((-1,1))\n",
    "\n",
    "mu = np.zeros((N))\n",
    "\n",
    "hyp = {\"null\":{}, \"alter\":{}}\n",
    "\n",
    "K1 = kernel.K(T, T) + np.eye(T.shape[0]) * varaince\n",
    "# assume very simple case: same kernel with same parameters\n",
    "K2 = np.zeros((N, N))\n",
    "K2[:t, :t] = K1[:t, :t]\n",
    "K2[t:, t:] = K1[t:, t:]\n",
    "\n",
    "hyp[\"null\"][\"K\"] = K1\n",
    "hyp[\"null\"][\"K_inv\"] = np.linalg.inv(K1)\n",
    "#hyp[\"null\"][\"K_inv\"] = np.linalge()\n",
    "hyp[\"alter\"][\"K\"] = K2\n",
    "\n",
    "Xs = np.random.multivariate_normal(mu, hyp[\"alter\"][\"K\"], 10)\n",
    "\n",
    "# for X in Xs:\n",
    "    \n",
    "\n",
    "\n",
    "\n",
    "\n",
    "\n",
    "\n"
   ]
  },
  {
   "cell_type": "code",
   "execution_count": 98,
   "metadata": {
    "collapsed": false
   },
   "outputs": [
    {
     "data": {
      "text/plain": [
       "2.967008070030671"
      ]
     },
     "execution_count": 98,
     "metadata": {},
     "output_type": "execute_result"
    }
   ],
   "source": [
    "np.log(np.linalg.det(K1))"
   ]
  },
  {
   "cell_type": "code",
   "execution_count": 111,
   "metadata": {
    "collapsed": false
   },
   "outputs": [
    {
     "data": {
      "text/plain": [
       "2.967008070030671"
      ]
     },
     "execution_count": 111,
     "metadata": {},
     "output_type": "execute_result"
    }
   ],
   "source": [
    "2 * sum(np.log(L.diagonal()))"
   ]
  },
  {
   "cell_type": "code",
   "execution_count": 106,
   "metadata": {
    "collapsed": false
   },
   "outputs": [
    {
     "data": {
      "text/plain": [
       "2.967008070030671"
      ]
     },
     "execution_count": 106,
     "metadata": {},
     "output_type": "execute_result"
    }
   ],
   "source": [
    "L = cholesky(K1)\n",
    "log_det = sum(np.log(L.diagonal())) # np.sum(np.log(L))\n",
    "log_det \n"
   ]
  },
  {
   "cell_type": "code",
   "execution_count": 35,
   "metadata": {
    "collapsed": false
   },
   "outputs": [
    {
     "data": {
      "text/plain": [
       "4739.0815861783885"
      ]
     },
     "execution_count": 35,
     "metadata": {},
     "output_type": "execute_result"
    }
   ],
   "source": [
    "compute_quad(X,K1)"
   ]
  },
  {
   "cell_type": "code",
   "execution_count": 95,
   "metadata": {
    "collapsed": true
   },
   "outputs": [],
   "source": [
    "X = Xs[5]"
   ]
  },
  {
   "cell_type": "code",
   "execution_count": 21,
   "metadata": {
    "collapsed": true
   },
   "outputs": [],
   "source": [
    "from scipy.linalg import solve_triangular, cholesky"
   ]
  },
  {
   "cell_type": "code",
   "execution_count": 65,
   "metadata": {
    "collapsed": false
   },
   "outputs": [
    {
     "data": {
      "text/plain": [
       "100.0"
      ]
     },
     "execution_count": 65,
     "metadata": {},
     "output_type": "execute_result"
    }
   ],
   "source": [
    "np.sum(L)"
   ]
  },
  {
   "cell_type": "code",
   "execution_count": 71,
   "metadata": {
    "collapsed": false
   },
   "outputs": [
    {
     "data": {
      "text/plain": [
       "array([[1., 0., 0., ..., 0., 0., 0.],\n",
       "       [0., 1., 0., ..., 0., 0., 0.],\n",
       "       [0., 0., 1., ..., 0., 0., 0.],\n",
       "       ...,\n",
       "       [0., 0., 0., ..., 1., 0., 0.],\n",
       "       [0., 0., 0., ..., 0., 1., 0.],\n",
       "       [0., 0., 0., ..., 0., 0., 1.]])"
      ]
     },
     "execution_count": 71,
     "metadata": {},
     "output_type": "execute_result"
    }
   ],
   "source": [
    "L"
   ]
  },
  {
   "cell_type": "code",
   "execution_count": 79,
   "metadata": {
    "collapsed": false
   },
   "outputs": [
    {
     "ename": "AttributeError",
     "evalue": "'numpy.ndarray' object has no attribute 'logdet'",
     "output_type": "error",
     "traceback": [
      "\u001b[0;31m---------------------------------------------------------------------------\u001b[0m",
      "\u001b[0;31mAttributeError\u001b[0m                            Traceback (most recent call last)",
      "\u001b[0;32m<ipython-input-79-cef6d4adcb56>\u001b[0m in \u001b[0;36m<module>\u001b[0;34m()\u001b[0m\n\u001b[0;32m----> 1\u001b[0;31m \u001b[0mL\u001b[0m\u001b[1;33m.\u001b[0m\u001b[0mlogdet\u001b[0m\u001b[1;33m(\u001b[0m\u001b[1;33m)\u001b[0m\u001b[1;33m\u001b[0m\u001b[0m\n\u001b[0m",
      "\u001b[0;31mAttributeError\u001b[0m: 'numpy.ndarray' object has no attribute 'logdet'"
     ]
    }
   ],
   "source": [
    "L.logdet()"
   ]
  },
  {
   "cell_type": "code",
   "execution_count": 82,
   "metadata": {
    "collapsed": false
   },
   "outputs": [
    {
     "data": {
      "text/plain": [
       "0.0"
      ]
     },
     "execution_count": 82,
     "metadata": {},
     "output_type": "execute_result"
    }
   ],
   "source": [
    "sum(np.log(L.diagonal()))"
   ]
  },
  {
   "cell_type": "code",
   "execution_count": 112,
   "metadata": {
    "collapsed": false
   },
   "outputs": [
    {
     "data": {
      "text/plain": [
       "2.967008070030671"
      ]
     },
     "execution_count": 112,
     "metadata": {},
     "output_type": "execute_result"
    }
   ],
   "source": [
    "L = cholesky(K1)\n",
    "\n",
    "D = solve_triangular(L, X, lower=True)\n",
    "alpha = solve_triangular(np.transpose(L), D, lower=True)\n",
    "quad = np.matmul(np.transpose(X), alpha)\n",
    "\n",
    "log_det = 2 * sum(np.log(L.diagonal())) # np.sum(np.log(L))\n",
    "\n",
    "\n",
    "# A = solve_triangular()"
   ]
  },
  {
   "cell_type": "code",
   "execution_count": 40,
   "metadata": {
    "collapsed": false
   },
   "outputs": [
    {
     "data": {
      "text/plain": [
       "146.1638841106889"
      ]
     },
     "execution_count": 40,
     "metadata": {},
     "output_type": "execute_result"
    }
   ],
   "source": [
    "np.matmul(np.transpose(X), alpha)"
   ]
  },
  {
   "cell_type": "code",
   "execution_count": 38,
   "metadata": {
    "collapsed": false
   },
   "outputs": [
    {
     "data": {
      "text/plain": [
       "array([ 0.75826004,  1.49387011,  0.76387499,  1.13571873,  2.93391838,\n",
       "        2.01347959,  0.52682406,  1.5723635 ,  0.94024099,  0.8845811 ,\n",
       "        1.86813836,  2.84966823,  4.46866631,  2.52426265,  1.15702436,\n",
       "        2.44399854,  1.311164  ,  0.25931507,  2.46268564,  0.82977947,\n",
       "        0.95596839, -0.10810316,  0.8791161 ,  0.94889961, -0.38236488,\n",
       "        0.67040627,  1.02896761,  0.66894605,  1.57892375,  1.75279935,\n",
       "        1.21402516,  0.56313962,  0.47513514, -0.44723275, -0.35188208,\n",
       "       -0.04579759,  2.21198755,  1.1462277 ,  3.03674126,  1.48043629,\n",
       "        1.32071858,  2.07826024,  2.12273468,  1.5211922 ,  3.17769498,\n",
       "        1.45113946,  0.08525222,  0.91683869, -1.02353728,  1.8255661 ,\n",
       "       -0.75930707, -0.96859619, -1.62915841, -2.18708433, -2.65926238,\n",
       "       -2.83769885, -2.59473067, -2.59839885, -1.41839263, -0.31888568,\n",
       "       -2.42948552, -2.14040952, -0.90003599, -2.14267228, -2.05172787,\n",
       "       -2.29011713, -2.23989517, -1.8506834 , -0.5387231 , -2.14851389,\n",
       "       -0.06451147, -2.06382835, -3.86287312, -3.9793902 , -0.92911987,\n",
       "       -2.42626889, -3.19973398, -3.08117217, -1.11379173, -0.82876639,\n",
       "       -0.12448875, -1.17663285, -0.8136686 , -0.06777258,  0.37100208,\n",
       "       -1.47228098, -1.07996954,  0.54800607,  1.15815124, -2.16549789,\n",
       "       -0.11835372,  1.65989592,  0.10281489, -1.12306224,  0.17384942,\n",
       "        1.32694698, -0.94349651,  0.65269365,  1.81678882, -1.26541845])"
      ]
     },
     "execution_count": 38,
     "metadata": {},
     "output_type": "execute_result"
    }
   ],
   "source": [
    "D1"
   ]
  },
  {
   "cell_type": "code",
   "execution_count": 23,
   "metadata": {
    "collapsed": false
   },
   "outputs": [
    {
     "data": {
      "text/plain": [
       "array([[1.41421356e+00, 7.03508647e-01, 6.92823729e-01, ...,\n",
       "        1.00753757e-21, 3.72586092e-22, 1.36383210e-22],\n",
       "       [0.00000000e+00, 1.22681522e+00, 4.13675978e-01, ...,\n",
       "        2.53109037e-21, 9.47783933e-22, 3.51291320e-22],\n",
       "       [0.00000000e+00, 0.00000000e+00, 1.16140754e+00, ...,\n",
       "        7.19839464e-21, 2.72409086e-21, 1.02036792e-21],\n",
       "       ...,\n",
       "       [0.00000000e+00, 0.00000000e+00, 0.00000000e+00, ...,\n",
       "        1.10348730e+00, 2.15348545e-01, 2.30497095e-01],\n",
       "       [0.00000000e+00, 0.00000000e+00, 0.00000000e+00, ...,\n",
       "        0.00000000e+00, 1.10348730e+00, 2.15348545e-01],\n",
       "       [0.00000000e+00, 0.00000000e+00, 0.00000000e+00, ...,\n",
       "        0.00000000e+00, 0.00000000e+00, 1.10348730e+00]])"
      ]
     },
     "execution_count": 23,
     "metadata": {},
     "output_type": "execute_result"
    }
   ],
   "source": [
    "L"
   ]
  },
  {
   "cell_type": "code",
   "execution_count": 12,
   "metadata": {
    "collapsed": false
   },
   "outputs": [
    {
     "data": {
      "text/plain": [
       "(100, 100)"
      ]
     },
     "execution_count": 12,
     "metadata": {},
     "output_type": "execute_result"
    }
   ],
   "source": [
    "A = solve_triangular(L, Kxlower=True)"
   ]
  },
  {
   "cell_type": "code",
   "execution_count": 20,
   "metadata": {
    "collapsed": true
   },
   "outputs": [],
   "source": [
    "from scipy import linalg"
   ]
  },
  {
   "cell_type": "code",
   "execution_count": null,
   "metadata": {
    "collapsed": true
   },
   "outputs": [],
   "source": [
    "linalg.cholesky"
   ]
  },
  {
   "cell_type": "code",
   "execution_count": null,
   "metadata": {
    "collapsed": true
   },
   "outputs": [],
   "source": [
    "scipy.linalg.solve_triangular"
   ]
  },
  {
   "cell_type": "code",
   "execution_count": 21,
   "metadata": {
    "collapsed": false
   },
   "outputs": [
    {
     "data": {
      "text/plain": [
       "(100, 1)"
      ]
     },
     "execution_count": 21,
     "metadata": {},
     "output_type": "execute_result"
    }
   ],
   "source": [
    "X.shape"
   ]
  },
  {
   "cell_type": "code",
   "execution_count": 19,
   "metadata": {
    "collapsed": false
   },
   "outputs": [
    {
     "data": {
      "text/plain": [
       "array([[1., 0.],\n",
       "       [0., 1.]])"
      ]
     },
     "execution_count": 19,
     "metadata": {},
     "output_type": "execute_result"
    }
   ],
   "source": [
    "np.eye(2)"
   ]
  }
 ],
 "metadata": {
  "anaconda-cloud": {},
  "kernelspec": {
   "display_name": "Python [default]",
   "language": "python",
   "name": "python3"
  },
  "language_info": {
   "codemirror_mode": {
    "name": "ipython",
    "version": 3
   },
   "file_extension": ".py",
   "mimetype": "text/x-python",
   "name": "python",
   "nbconvert_exporter": "python",
   "pygments_lexer": "ipython3",
   "version": "3.5.2"
  }
 },
 "nbformat": 4,
 "nbformat_minor": 1
}
